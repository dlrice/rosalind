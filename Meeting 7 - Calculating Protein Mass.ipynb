{
 "cells": [
  {
   "cell_type": "markdown",
   "metadata": {},
   "source": [
    "# Calculating Protein Mass\n",
    "\n",
    "http://rosalind.info/problems/prtm/"
   ]
  },
  {
   "cell_type": "markdown",
   "metadata": {},
   "source": [
    "### A solution"
   ]
  },
  {
   "cell_type": "code",
   "execution_count": 1,
   "metadata": {
    "collapsed": true
   },
   "outputs": [],
   "source": [
    "s = \"\"\"\n",
    "A   71.03711\n",
    "C   103.00919\n",
    "D   115.02694\n",
    "E   129.04259\n",
    "F   147.06841\n",
    "G   57.02146\n",
    "H   137.05891\n",
    "I   113.08406\n",
    "K   128.09496\n",
    "L   113.08406\n",
    "M   131.04049\n",
    "N   114.04293\n",
    "P   97.05276\n",
    "Q   128.05858\n",
    "R   156.10111\n",
    "S   87.03203\n",
    "T   101.04768\n",
    "V   99.06841\n",
    "W   186.07931\n",
    "Y   163.06333 \n",
    "\"\"\""
   ]
  },
  {
   "cell_type": "code",
   "execution_count": 23,
   "metadata": {
    "collapsed": false
   },
   "outputs": [],
   "source": [
    "# Create weights dictionary from string\n",
    "weights = {}\n",
    "for line in s.split('\\n'):\n",
    "    if line:\n",
    "        aa, weight = line.split()\n",
    "        weights[aa] = float(weight)"
   ]
  },
  {
   "cell_type": "code",
   "execution_count": 24,
   "metadata": {
    "collapsed": false
   },
   "outputs": [],
   "source": [
    "def calc_mass(string, weights):\n",
    "    total = 0\n",
    "    for s in string:\n",
    "        total += weights[s]\n",
    "    return total"
   ]
  },
  {
   "cell_type": "code",
   "execution_count": 25,
   "metadata": {
    "collapsed": false
   },
   "outputs": [
    {
     "data": {
      "text/plain": [
       "96020.69963000034"
      ]
     },
     "execution_count": 25,
     "metadata": {},
     "output_type": "execute_result"
    }
   ],
   "source": [
    "string = 'GIQIPPSDEDGVNCPPWMKWWHKYEHYKNWGDMDQWILNIWIRQHNRLSYPKMCMGYWIPFHMCNHSKTQIPKEQVIVGWESAHMLMLITQSCKTQAIHEWHHNDWEDTNYAHDPPKCTMLHGRVKHWLFVDNAIHWCVWYVPDTSDTVMMWRVFDDNKESHLVDIMMHGHEGATFMIARGDWSGDPMWFRMEGKFNKPRRKIYATRINEAIGPEGSSYPKMSSADAAFPDIHIPITIYNRKAPITLHDAEACHVPLFQKDRKRYKRLLEWSTVLNQIMAVYRIHTRENEEWSWKQSECTVWMDWTTEEMSRQARTKARFHCFRWENAWWVKKAEALHWGEAGYFGNGPGKWVVQKFIIPSCVRYSPEWNAPARAIHVKFIMFGGQWDMDRSYQVSWRACFSQAPPEHWCRQDTKSECYVHLQKKGPVKEFQQFYDPVIVWLNIACCEECNHEWLSRAWSCNSWGFERFHGDDNPNQHRCSSKFYMTGSWHSRAGVTSEDALHDPKCHPCKLCKRLRHKSETAPPHSECRWAGDGFCQIIQVYPMEEQSPGIERWQCTPIFRWEAQLTYRAHNEIKYSIPLESAHPIHACWIKLPIDVRSRWGIMPLLGEQAYQMSFNENEPNSPSIIPYNSVKSMHRCMCCCQPEELRRLWSNPEKEGCFDSASFDFGQRYYQRCHCRMQVLTSFVREKATRLLNWGKKMCLHFQVKTSKIGQAIPFETSNDFFWVDPFVMTIKCHIHPAFCIMVCYPNDYMAQDMWFHFVFLPRIAITFVKCMEEIAAYKFVPRASVDVWCTFSFLDMTGRRYDWC'\n",
    "calc_mass(string, weights)"
   ]
  },
  {
   "cell_type": "markdown",
   "metadata": {},
   "source": [
    "### Another solution"
   ]
  },
  {
   "cell_type": "code",
   "execution_count": 27,
   "metadata": {
    "collapsed": false
   },
   "outputs": [],
   "source": [
    "MONOISOTOPIC_MASS_TABLE = {\n",
    " 'A': 71.03711,\n",
    " 'C': 103.00919,\n",
    " 'D': 115.02694,\n",
    " 'E': 129.04259,\n",
    " 'F': 147.06841,\n",
    " 'G': 57.02146,\n",
    " 'H': 137.05891,\n",
    " 'I': 113.08406,\n",
    " 'K': 128.09496,\n",
    " 'L': 113.08406,\n",
    " 'M': 131.04049,\n",
    " 'N': 114.04293,\n",
    " 'P': 97.05276,\n",
    " 'Q': 128.05858,\n",
    " 'R': 156.10111,\n",
    " 'S': 87.03203,\n",
    " 'T': 101.04768,\n",
    " 'V': 99.06841,\n",
    " 'W': 186.07931,\n",
    " 'Y': 163.06333,\n",
    "}\n",
    "\n",
    "def calc_weight2(p, MONOISOTOPIC_MASS_TABLE):\n",
    "    w = 0\n",
    "    for aa in p:\n",
    "        w += MONOISOTOPIC_MASS_TABLE[aa]\n",
    "    return w"
   ]
  },
  {
   "cell_type": "code",
   "execution_count": 28,
   "metadata": {
    "collapsed": false
   },
   "outputs": [
    {
     "data": {
      "text/plain": [
       "96020.69963000034"
      ]
     },
     "execution_count": 28,
     "metadata": {},
     "output_type": "execute_result"
    }
   ],
   "source": [
    "calc_weight2(string, MONOISOTOPIC_MASS_TABLE)"
   ]
  },
  {
   "cell_type": "code",
   "execution_count": null,
   "metadata": {
    "collapsed": true
   },
   "outputs": [],
   "source": []
  }
 ],
 "metadata": {
  "anaconda-cloud": {},
  "kernelspec": {
   "display_name": "Python [default]",
   "language": "python",
   "name": "python3"
  },
  "language_info": {
   "codemirror_mode": {
    "name": "ipython",
    "version": 3
   },
   "file_extension": ".py",
   "mimetype": "text/x-python",
   "name": "python",
   "nbconvert_exporter": "python",
   "pygments_lexer": "ipython3",
   "version": "3.5.2"
  }
 },
 "nbformat": 4,
 "nbformat_minor": 1
}
