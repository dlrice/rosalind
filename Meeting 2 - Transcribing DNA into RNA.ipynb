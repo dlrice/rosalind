{
 "cells": [
  {
   "cell_type": "markdown",
   "metadata": {},
   "source": [
    "# Transcribing DNA into RNA\n",
    "http://rosalind.info/problems/rna/"
   ]
  },
  {
   "cell_type": "markdown",
   "metadata": {},
   "source": [
    "### A solution"
   ]
  },
  {
   "cell_type": "code",
   "execution_count": 9,
   "metadata": {
    "collapsed": false
   },
   "outputs": [
    {
     "data": {
      "text/plain": [
       "'GAUGGAACUUGACUACGUAAAUU'"
      ]
     },
     "execution_count": 9,
     "metadata": {},
     "output_type": "execute_result"
    }
   ],
   "source": [
    "dna = 'GATGGAACTTGACTACGTAAATT'\n",
    "'U'.join(dna.split('T'))"
   ]
  },
  {
   "cell_type": "code",
   "execution_count": 4,
   "metadata": {
    "collapsed": false
   },
   "outputs": [
    {
     "name": "stdout",
     "output_type": "stream",
     "text": [
      "The slowest run took 16.73 times longer than the fastest. This could mean that an intermediate result is being cached.\n",
      "1000000 loops, best of 3: 896 ns per loop\n"
     ]
    }
   ],
   "source": [
    "%timeit 'U'.join(dna.split('T'))"
   ]
  },
  {
   "cell_type": "markdown",
   "metadata": {},
   "source": [
    "### Another solution"
   ]
  },
  {
   "cell_type": "code",
   "execution_count": 5,
   "metadata": {
    "collapsed": false
   },
   "outputs": [
    {
     "name": "stdout",
     "output_type": "stream",
     "text": [
      "The slowest run took 10.58 times longer than the fastest. This could mean that an intermediate result is being cached.\n",
      "1000000 loops, best of 3: 315 ns per loop\n"
     ]
    }
   ],
   "source": [
    "%timeit dna.replace('T', 'U')"
   ]
  },
  {
   "cell_type": "code",
   "execution_count": 6,
   "metadata": {
    "collapsed": false
   },
   "outputs": [
    {
     "data": {
      "text/plain": [
       "'CUGAACGCGCGAAGUGUAGGUACACUAUGGCCUAGUCUGUACCUCCUCGGGCACAUGCUAUACCCAGACUAUGAUUCGAUCGAAGAGAUAUCGGAUUGUACCCCCUCUGAAGUAUGGUCUCCGACAACCUAUACGCACAUGCCCCCCCUGAAUAAACUGCAUUAGUUACUAAAAAACCACGGCUUUUAUAGUAACGCGUAACUGUCCAUCCUGACGCGGACAUGGGCGCGAAACUGUGGGAGAAACCGUUGCGGGUCUAGGGUGUAAGAUUGUGAGAAAUUCGACGAGUGAUGUUCGUACCAUCCUGGGAGUACACGCCUGAUCGAAGUUUGGUCUUGAAUGCUGAACCAGUGACUCGUACUAUUACGGAAGCUACAGCUUACGCAGUUCUCCCCCUAUGAUACCCCUGCAUAACGUCGGAAUAGUUAGCAAAUCCAAAAAGUGACUGUGUUCUGGCUGUCUAAGGUUUUGCUUUCAUUCGGCCACAUCCGCAGGCUAGUUGGAGCCAGUUAACAAUCGGCACAGAUCGCUUUAGGGGGCUAUACAACGGAGUAUAGAAGGAGUGAAUAUGGCACGCCCGAGGGUUACCAUGGUGGGAGCCGCAUCACCGCGGUUUGGACCAUCAUAUCAUUAGGACACAGGGGAUCUCCAUAAAUAGGGACAUGUCCGUAAAAGCUCCCUGCGCAAAGGACAAGCAGCAUUAACGUCCGUUGGUUCGUUUCGUAAGUCGACCUACGACACGCUGUGUAAUAUUUUAUCGUUCUAAGGAUCUAGAGCAGCAAACUCUCGCGGUGCCUGCUAGCCACACAUCGGUAGAUGUGAAAGUGCUGGGUACGCCUAUCAAUUGACAUGGGAAUGCCUGGGGGUAGGCAACCGGCUUCUGCGCCUUCCCGUAAAAAGAAAUGCAAAAGCCCGGU'"
      ]
     },
     "execution_count": 6,
     "metadata": {},
     "output_type": "execute_result"
    }
   ],
   "source": [
    "dna = 'CTGAACGCGCGAAGTGTAGGTACACTATGGCCTAGTCTGTACCTCCTCGGGCACATGCTATACCCAGACTATGATTCGATCGAAGAGATATCGGATTGTACCCCCTCTGAAGTATGGTCTCCGACAACCTATACGCACATGCCCCCCCTGAATAAACTGCATTAGTTACTAAAAAACCACGGCTTTTATAGTAACGCGTAACTGTCCATCCTGACGCGGACATGGGCGCGAAACTGTGGGAGAAACCGTTGCGGGTCTAGGGTGTAAGATTGTGAGAAATTCGACGAGTGATGTTCGTACCATCCTGGGAGTACACGCCTGATCGAAGTTTGGTCTTGAATGCTGAACCAGTGACTCGTACTATTACGGAAGCTACAGCTTACGCAGTTCTCCCCCTATGATACCCCTGCATAACGTCGGAATAGTTAGCAAATCCAAAAAGTGACTGTGTTCTGGCTGTCTAAGGTTTTGCTTTCATTCGGCCACATCCGCAGGCTAGTTGGAGCCAGTTAACAATCGGCACAGATCGCTTTAGGGGGCTATACAACGGAGTATAGAAGGAGTGAATATGGCACGCCCGAGGGTTACCATGGTGGGAGCCGCATCACCGCGGTTTGGACCATCATATCATTAGGACACAGGGGATCTCCATAAATAGGGACATGTCCGTAAAAGCTCCCTGCGCAAAGGACAAGCAGCATTAACGTCCGTTGGTTCGTTTCGTAAGTCGACCTACGACACGCTGTGTAATATTTTATCGTTCTAAGGATCTAGAGCAGCAAACTCTCGCGGTGCCTGCTAGCCACACATCGGTAGATGTGAAAGTGCTGGGTACGCCTATCAATTGACATGGGAATGCCTGGGGGTAGGCAACCGGCTTCTGCGCCTTCCCGTAAAAAGAAATGCAAAAGCCCGGT'\n",
    "dna.replace('T', 'U')"
   ]
  }
 ],
 "metadata": {
  "kernelspec": {
   "display_name": "Python [conda root]",
   "language": "python",
   "name": "conda-root-py"
  },
  "language_info": {
   "codemirror_mode": {
    "name": "ipython",
    "version": 3
   },
   "file_extension": ".py",
   "mimetype": "text/x-python",
   "name": "python",
   "nbconvert_exporter": "python",
   "pygments_lexer": "ipython3",
   "version": "3.5.2"
  }
 },
 "nbformat": 4,
 "nbformat_minor": 1
}
