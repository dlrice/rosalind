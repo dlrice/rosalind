{
 "cells": [
  {
   "cell_type": "markdown",
   "metadata": {},
   "source": [
    "# Mendel's First Law\n",
    "\n",
    "http://rosalind.info/problems/iprb/"
   ]
  },
  {
   "cell_type": "markdown",
   "metadata": {},
   "source": [
    "### A solution"
   ]
  },
  {
   "cell_type": "code",
   "execution_count": 35,
   "metadata": {
    "collapsed": false
   },
   "outputs": [],
   "source": [
    "def sum_counts(d):\n",
    "    return sum(d.values())\n",
    "\n",
    "def punnet(i1, i2):\n",
    "    count = 0\n",
    "    for g1 in i1:\n",
    "        for g2 in i2:\n",
    "            org = g1 + g2\n",
    "            if 'D' in org:\n",
    "                count += 1\n",
    "    return count / 4\n",
    "\n",
    "def get_probability(i1, i2, counts):\n",
    "    counts = counts.copy()\n",
    "    p1 = counts[i1] / total\n",
    "    counts[i1] -= 1\n",
    "    p2 = counts[i2] / (total - 1)\n",
    "    return p1 * p2 * punnet(i1, i2)\n",
    "\n",
    "def prob_dominant(k, m, n):\n",
    "    total = k + m + n\n",
    "    individuals = ['DD','Dd','dd']\n",
    "    counts = {\n",
    "        'DD': k,\n",
    "        'Dd': m,\n",
    "        'dd': n,\n",
    "    }\n",
    "    count = 0\n",
    "    for i1 in individuals:\n",
    "        for i2 in individuals:\n",
    "            count += get_probability(i1, i2, counts)\n",
    "    return count"
   ]
  },
  {
   "cell_type": "code",
   "execution_count": 45,
   "metadata": {
    "collapsed": false
   },
   "outputs": [
    {
     "data": {
      "text/plain": [
       "0.7238849765258215"
      ]
     },
     "execution_count": 45,
     "metadata": {},
     "output_type": "execute_result"
    }
   ],
   "source": [
    "prob_dominant(k=23, m=22, n=27)"
   ]
  },
  {
   "cell_type": "markdown",
   "metadata": {},
   "source": [
    "### Another solution"
   ]
  },
  {
   "cell_type": "code",
   "execution_count": 46,
   "metadata": {
    "collapsed": true
   },
   "outputs": [],
   "source": [
    "def prob_dominant(k, m, n):\n",
    "    total = k + m + n\n",
    "\n",
    "    kk = (k / total) * ((k-1) / (total-1))\n",
    "    km = (k / total) * (m / (total-1)) \n",
    "    mm = (m / total) * ((m-1) / (total-1)) * 0.75\n",
    "    kn = (k / total) * (n / (total -1))\n",
    "    mn = (m / total) * (n / (total - 1)) * 0.5\n",
    "\n",
    "    return 2*(km + kn + mn) + kk + mm "
   ]
  },
  {
   "cell_type": "code",
   "execution_count": 47,
   "metadata": {
    "collapsed": false
   },
   "outputs": [
    {
     "data": {
      "text/plain": [
       "0.7238849765258215"
      ]
     },
     "execution_count": 47,
     "metadata": {},
     "output_type": "execute_result"
    }
   ],
   "source": [
    "prob_dominant(k=23, m=22, n=27)"
   ]
  }
 ],
 "metadata": {
  "anaconda-cloud": {},
  "kernelspec": {
   "display_name": "Python [default]",
   "language": "python",
   "name": "python3"
  },
  "language_info": {
   "codemirror_mode": {
    "name": "ipython",
    "version": 3
   },
   "file_extension": ".py",
   "mimetype": "text/x-python",
   "name": "python",
   "nbconvert_exporter": "python",
   "pygments_lexer": "ipython3",
   "version": "3.5.2"
  }
 },
 "nbformat": 4,
 "nbformat_minor": 1
}
