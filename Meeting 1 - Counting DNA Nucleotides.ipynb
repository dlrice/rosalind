{
 "cells": [
  {
   "cell_type": "markdown",
   "metadata": {},
   "source": [
    "# Counting DNA Nucleotides\n",
    "\n",
    "http://rosalind.info/problems/dna/"
   ]
  },
  {
   "cell_type": "markdown",
   "metadata": {},
   "source": [
    "### A solution"
   ]
  },
  {
   "cell_type": "code",
   "execution_count": 1,
   "metadata": {
    "collapsed": false
   },
   "outputs": [
    {
     "name": "stdout",
     "output_type": "stream",
     "text": [
      "TATTTCCTCCCTCTCAGGAAACACGATACAGGATGATATTATTCTATTCCATCGGCGACCTTGTACGCTGTGACCTTGCGACCTCAGCCATCGTGTGCATGGCCTCCTTATTGTACACATGTTGTCCAGTGAGCTGCGCGGGTCAGGAGCAGGCAGCATTCGGTAGCATTTGCCCGCAGAATACCCCCTACTTAATACATCTAACAAACTTAAGAGAACAGCGACTGGCCTCACCTTGGCGTACACCCAGTTAAGGTAGACACTCGCTCAATTTGTCGGTACTCGAAAATGAGGAGTGCGGCCAGTCCTAAAAGTCCCACATAACGTGACGCTGTAAACATGCCTTTTCTTTTAGTCATCGAGATAATCATTAACCCTTGCTTGGTCGGGCGGTCTATTTAATTGTACTCATCCTGCCTCTAAACGGACGGCAGTAGGAATTGCAGCACTTAATATGCAGCTGCTATGTCTAGCAATGGCAAAGGCCTGAGCGGAGCAAGCAACTTTTAGCATCCTCGACACATCATAAACTGGTTATAGGTAATTTCCACTAACAGAACGGTGTTTAGTTTCCTTGACCTCAGTCTCAATCGTTTTGGAGAATAGAGCTTTTTTACCAGGTATCTTTATGCGACAAGAAAACTATATGACAGAACCGGCCTGCAGGGTATCATTGGTTGTATTCAGGCTACGAGGTGACCTAACAAATGATCATACAATGCCTACACCAATCGACACTGTGTGCTGACTGGGTGTTTTCGCCCCCCTTGCGTAGAACTGTTGATCCTGATCGTGTTCACTCCACCGGAACGGTCATGTAAACAGACAAATAGTCGTGGTCGATGAGTGGGTTGGGGTTATCACAGGTTGCGCTCTACCACGTATAAGAGGCCGCTGAAAGAGCG\r\n"
     ]
    }
   ],
   "source": [
    "!cat /Users/dr9/Downloads/rosalind_dna.txt"
   ]
  },
  {
   "cell_type": "code",
   "execution_count": 2,
   "metadata": {
    "collapsed": false
   },
   "outputs": [
    {
     "name": "stdout",
     "output_type": "stream",
     "text": [
      "234 221 207 243\n"
     ]
    }
   ],
   "source": [
    "# load modules\n",
    "from collections import defaultdict\n",
    "\n",
    "# open file\n",
    "with open('/Users/dr9/Downloads/rosalind_dna.txt') as f:\n",
    "    string = f.read().strip()\n",
    "counts = defaultdict(int)\n",
    "for base in string:\n",
    "    counts[base] += 1\n",
    "\n",
    "# print result\n",
    "result = []\n",
    "for k in sorted(counts.keys()):\n",
    "    v = counts[k]\n",
    "    result.append(str(v))\n",
    "\n",
    "print(' '.join(result))\n",
    "# now we're done!"
   ]
  },
  {
   "cell_type": "markdown",
   "metadata": {},
   "source": [
    "### Another solution"
   ]
  },
  {
   "cell_type": "code",
   "execution_count": 3,
   "metadata": {
    "collapsed": false
   },
   "outputs": [
    {
     "name": "stdout",
     "output_type": "stream",
     "text": [
      "234 221 207 243\n"
     ]
    }
   ],
   "source": [
    "# Problem 1\n",
    "\n",
    "# File input \n",
    "\n",
    "# Open the file\n",
    "f = open('/Users/dr9/Downloads/rosalind_dna.txt', 'r')\n",
    "# Read all lines, take the first one, remove the new line symbol\n",
    "input_sequence = f.readlines()[0].rstrip('\\n')\n",
    "\n",
    "# Counting\n",
    "\n",
    "# Initialise an emptry dictionary\n",
    "basepair_count = {}\n",
    "# Iterate the input string character by character\n",
    "for basepair in input_sequence:\n",
    "    # If a particular key doesn't exist, initialise it with 0 as a value\n",
    "    if basepair not in basepair_count:\n",
    "        basepair_count[basepair] = 0\n",
    "    # Iterate the value on every basepair occurence\n",
    "    basepair_count[basepair] += 1\n",
    "\n",
    "\n",
    "# Output\n",
    "\n",
    "# Make a list to store the output\n",
    "count_output = []\n",
    "# Sort dictionary by keys, iterate through key-value pairs\n",
    "for key, value in sorted(basepair_count.items()):\n",
    "    # Append values to the output list\n",
    "    count_output.append(str(value))\n",
    "\n",
    "# Print string in Rosalind's output format\n",
    "print(\" \".join(count_output))"
   ]
  },
  {
   "cell_type": "markdown",
   "metadata": {},
   "source": [
    "### Another solution"
   ]
  },
  {
   "cell_type": "code",
   "execution_count": 5,
   "metadata": {
    "collapsed": false
   },
   "outputs": [
    {
     "name": "stdout",
     "output_type": "stream",
     "text": [
      "234 221 207 243\n"
     ]
    }
   ],
   "source": [
    "from collections import Counter\n",
    "counts = Counter(string)\n",
    "result = []\n",
    "for k in sorted(counts.keys()):\n",
    "    v = counts[k]\n",
    "    result.append(str(v))\n",
    "\n",
    "print(' '.join(result))"
   ]
  }
 ],
 "metadata": {
  "anaconda-cloud": {},
  "kernelspec": {
   "display_name": "Python [default]",
   "language": "python",
   "name": "python3"
  },
  "language_info": {
   "codemirror_mode": {
    "name": "ipython",
    "version": 3
   },
   "file_extension": ".py",
   "mimetype": "text/x-python",
   "name": "python",
   "nbconvert_exporter": "python",
   "pygments_lexer": "ipython3",
   "version": "3.5.2"
  }
 },
 "nbformat": 4,
 "nbformat_minor": 1
}
