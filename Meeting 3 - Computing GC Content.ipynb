{
 "cells": [
  {
   "cell_type": "markdown",
   "metadata": {},
   "source": [
    "# Computing GC Content\n",
    "http://rosalind.info/problems/gc/"
   ]
  },
  {
   "cell_type": "markdown",
   "metadata": {},
   "source": [
    "### A solution"
   ]
  },
  {
   "cell_type": "code",
   "execution_count": 129,
   "metadata": {
    "collapsed": false
   },
   "outputs": [
    {
     "name": "stdout",
     "output_type": "stream",
     "text": [
      "Rosalind_0827\n",
      "53.91198044009779\n"
     ]
    }
   ],
   "source": [
    "from collections import Counter\n",
    "import re\n",
    "\n",
    "input_file = '/Users/dr9/Downloads/rosalind_gc (3).txt'\n",
    "\n",
    "def calculate_gc(string):\n",
    "        counts = Counter(string)\n",
    "        return (counts['C'] + counts['G']) / len(string)\n",
    "\n",
    "with open(input_file) as f:\n",
    "    lines = f.readlines()\n",
    "    \n",
    "p = re.compile('>Rosalind_\\d{4}')\n",
    "lines = ''.join([line.strip() for line in lines])\n",
    "m = p.match(lines)\n",
    "IDs = re.findall(p, lines)\n",
    "strings = re.split(p, lines)[1:]\n",
    "\n",
    "maxgc = 0\n",
    "maxID = ''\n",
    "for ID, string in zip(IDs, strings):\n",
    "    ID = ID[1:]\n",
    "    gc = calculate_gc(string)\n",
    "    if gc > maxgc:\n",
    "        maxgc = gc\n",
    "        maxID = ID\n",
    "        \n",
    "print(maxID)\n",
    "print(maxgc*100)"
   ]
  },
  {
   "cell_type": "markdown",
   "metadata": {},
   "source": [
    "### Another solution"
   ]
  },
  {
   "cell_type": "code",
   "execution_count": 130,
   "metadata": {
    "collapsed": false
   },
   "outputs": [
    {
     "name": "stdout",
     "output_type": "stream",
     "text": [
      "Rosalind_0827\n",
      "0.539119804400978\n"
     ]
    }
   ],
   "source": [
    "from collections import Counter\n",
    "\n",
    "input_file = '/Users/dr9/Downloads/rosalind_gc (3).txt'\n",
    "\n",
    "def sum_gc_cache(gc_cache):\n",
    "    s = 0\n",
    "    l = 0\n",
    "    for el in gc_cache:\n",
    "        s += el['gc'] * el['length']\n",
    "        l += el['length']\n",
    "    return s/l\n",
    "\n",
    "first_iteration = True\n",
    "gc = {}\n",
    "with open(input_file) as f:\n",
    "    for line in f:\n",
    "        line = line.strip()\n",
    "        if not line: # blank line\n",
    "            continue\n",
    "        elif line[0] == '>' :\n",
    "            if first_iteration:\n",
    "                ID = line[1:]\n",
    "                first_iteration = False\n",
    "                continue\n",
    "            else:\n",
    "                gc[ID] = sum_gc_cache(gc_cache)\n",
    "                ID = line[1:]\n",
    "            gc_cache = []\n",
    "        else:\n",
    "            gc_cache.append({'gc': calculate_gc(line), 'length': len(line)})\n",
    "            \n",
    "    else:\n",
    "        gc[ID] = sum_gc_cache(gc_cache)\n",
    "        \n",
    "sorted_IDs = sorted(gc, key=gc.get, reverse=True)\n",
    "top_ID = sorted_IDs[0]\n",
    "top_GC = gc[top_ID]\n",
    "print(top_ID)\n",
    "print(top_GC)"
   ]
  },
  {
   "cell_type": "markdown",
   "metadata": {},
   "source": [
    "### Another solution"
   ]
  },
  {
   "cell_type": "code",
   "execution_count": 131,
   "metadata": {
    "collapsed": false
   },
   "outputs": [
    {
     "name": "stdout",
     "output_type": "stream",
     "text": [
      "Rosalind_0827\n",
      "0.539119804400978\n"
     ]
    }
   ],
   "source": [
    "from collections import Counter\n",
    "\n",
    "input_file = '/Users/dr9/Downloads/rosalind_gc (3).txt'\n",
    "\n",
    "def sum_gc_cache(gc_cache):\n",
    "    s = 0\n",
    "    l = 0\n",
    "    for el in gc_cache:\n",
    "        s += el['gc'] * el['length']\n",
    "        l += el['length']\n",
    "    return s/l\n",
    "\n",
    "first_iteration = True\n",
    "gc = {}\n",
    "with open(input_file) as f:\n",
    "    for line in f:\n",
    "        line = line.strip()\n",
    "        if not line: # blank line\n",
    "            continue\n",
    "        elif line[0] == '>' :\n",
    "            ID = line[1:]\n",
    "            if first_iteration:\n",
    "                first_iteration = False\n",
    "            else:\n",
    "                gc[ID] = gc_sofar / len_sofar\n",
    "            gc_sofar = 0\n",
    "            len_sofar = 0\n",
    "        else:\n",
    "            counts = Counter(line)\n",
    "            gc_sofar += (counts['C'] + counts['G'])\n",
    "            len_sofar += len(line)\n",
    "    else:\n",
    "        gc[ID] = gc_sofar / len_sofar\n",
    "\n",
    "sorted_IDs = sorted(gc, key=gc.get, reverse=True)\n",
    "top_ID = sorted_IDs[0]\n",
    "top_GC = gc[top_ID]\n",
    "print(top_ID)\n",
    "print(top_GC)"
   ]
  }
 ],
 "metadata": {
  "kernelspec": {
   "display_name": "Python [default]",
   "language": "python",
   "name": "python3"
  },
  "language_info": {
   "codemirror_mode": {
    "name": "ipython",
    "version": 3
   },
   "file_extension": ".py",
   "mimetype": "text/x-python",
   "name": "python",
   "nbconvert_exporter": "python",
   "pygments_lexer": "ipython3",
   "version": "3.5.2"
  }
 },
 "nbformat": 4,
 "nbformat_minor": 1
}
