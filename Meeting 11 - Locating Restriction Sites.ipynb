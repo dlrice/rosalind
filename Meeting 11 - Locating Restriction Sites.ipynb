{
 "cells": [
  {
   "cell_type": "markdown",
   "metadata": {},
   "source": [
    "# Locating Restriction Sites\n",
    "\n",
    "http://rosalind.info/problems/revp/"
   ]
  },
  {
   "cell_type": "code",
   "execution_count": 43,
   "metadata": {
    "collapsed": true
   },
   "outputs": [],
   "source": [
    "from Bio import SeqIO\n",
    "\n",
    "def reverse_complement(dna):\n",
    "    complement = {\n",
    "        'A': 'T',\n",
    "        'C': 'G',\n",
    "        'G': 'C',\n",
    "        'T': 'A'\n",
    "    }\n",
    "    result = ''\n",
    "    for base in dna[::-1]:\n",
    "        result += complement[base]\n",
    "        \n",
    "    return result\n",
    "\n",
    "fpath = '/Users/dr9/Downloads/rosalind_revp (3).txt'\n",
    "for read in SeqIO.parse(open(fpath),\"fasta\"):\n",
    "    string = str(read.seq)"
   ]
  },
  {
   "cell_type": "markdown",
   "metadata": {},
   "source": [
    "### A solution"
   ]
  },
  {
   "cell_type": "code",
   "execution_count": 57,
   "metadata": {
    "collapsed": false
   },
   "outputs": [],
   "source": [
    "def substrings(s):\n",
    "    for k in range(4, 13):\n",
    "        for i in range(len(s)-k+1):\n",
    "            yield [s[i:i+k], i+1, k]"
   ]
  },
  {
   "cell_type": "code",
   "execution_count": 71,
   "metadata": {
    "collapsed": false
   },
   "outputs": [
    {
     "name": "stdout",
     "output_type": "stream",
     "text": [
      "1 4\n",
      "2 4\n",
      "16 4\n",
      "33 4\n",
      "39 4\n",
      "58 4\n",
      "78 4\n",
      "113 4\n",
      "130 4\n",
      "131 4\n",
      "138 4\n",
      "157 4\n",
      "160 4\n",
      "190 4\n",
      "230 4\n",
      "246 4\n",
      "252 4\n",
      "274 4\n",
      "278 4\n",
      "289 4\n",
      "302 4\n",
      "344 4\n",
      "345 4\n",
      "358 4\n",
      "360 4\n",
      "383 4\n",
      "402 4\n",
      "460 4\n",
      "467 4\n",
      "477 4\n",
      "525 4\n",
      "531 4\n",
      "534 4\n",
      "573 4\n",
      "579 4\n",
      "589 4\n",
      "617 4\n",
      "622 4\n",
      "644 4\n",
      "692 4\n",
      "697 4\n",
      "700 4\n",
      "709 4\n",
      "718 4\n",
      "726 4\n",
      "728 4\n",
      "736 4\n",
      "744 4\n",
      "753 4\n",
      "758 4\n",
      "762 4\n",
      "789 4\n",
      "792 4\n",
      "802 4\n",
      "849 4\n",
      "851 4\n",
      "874 4\n",
      "885 4\n",
      "894 4\n",
      "902 4\n",
      "923 4\n",
      "931 4\n",
      "932 4\n",
      "933 4\n",
      "57 6\n",
      "156 6\n",
      "159 6\n",
      "251 6\n",
      "359 6\n",
      "382 6\n",
      "401 6\n",
      "459 6\n",
      "466 6\n",
      "524 6\n",
      "530 6\n",
      "533 6\n",
      "699 6\n",
      "743 6\n",
      "788 6\n",
      "873 6\n",
      "901 6\n",
      "931 6\n",
      "56 8\n",
      "158 8\n",
      "465 8\n",
      "464 10\n",
      "463 12\n"
     ]
    }
   ],
   "source": [
    "for sub in substrings(string):\n",
    "    if sub[0] == reverse_complement(sub[0]):\n",
    "        print(sub[1], sub[2])"
   ]
  },
  {
   "cell_type": "markdown",
   "metadata": {},
   "source": [
    "### Another solution"
   ]
  },
  {
   "cell_type": "code",
   "execution_count": 72,
   "metadata": {
    "collapsed": false
   },
   "outputs": [],
   "source": [
    "def find_palindromes(string, window_length_lo=4, window_length_hi=12):\n",
    "    string_length = len(string)\n",
    "    rc_string = reverse_complement(string)\n",
    "\n",
    "    for index in range(string_length - window_length_lo + 1):\n",
    "        for length in range(window_length_lo, window_length_hi + 1):\n",
    "            start = index\n",
    "            end = index + length\n",
    "            if end > string_length:\n",
    "                continue\n",
    "            substring = string[start:end]\n",
    "            rc_start = string_length - end\n",
    "            rc_end = string_length - index\n",
    "            rc_substring = rc_string[rc_start:rc_end]\n",
    "\n",
    "            if substring == rc_substring :\n",
    "                print(index + 1, length)"
   ]
  },
  {
   "cell_type": "code",
   "execution_count": 73,
   "metadata": {
    "collapsed": false
   },
   "outputs": [
    {
     "name": "stdout",
     "output_type": "stream",
     "text": [
      "1 4\n",
      "2 4\n",
      "16 4\n",
      "33 4\n",
      "39 4\n",
      "56 8\n",
      "57 6\n",
      "58 4\n",
      "78 4\n",
      "113 4\n",
      "130 4\n",
      "131 4\n",
      "138 4\n",
      "156 6\n",
      "157 4\n",
      "158 8\n",
      "159 6\n",
      "160 4\n",
      "190 4\n",
      "230 4\n",
      "246 4\n",
      "251 6\n",
      "252 4\n",
      "274 4\n",
      "278 4\n",
      "289 4\n",
      "302 4\n",
      "344 4\n",
      "345 4\n",
      "358 4\n",
      "359 6\n",
      "360 4\n",
      "382 6\n",
      "383 4\n",
      "401 6\n",
      "402 4\n",
      "459 6\n",
      "460 4\n",
      "463 12\n",
      "464 10\n",
      "465 8\n",
      "466 6\n",
      "467 4\n",
      "477 4\n",
      "524 6\n",
      "525 4\n",
      "530 6\n",
      "531 4\n",
      "533 6\n",
      "534 4\n",
      "573 4\n",
      "579 4\n",
      "589 4\n",
      "617 4\n",
      "622 4\n",
      "644 4\n",
      "692 4\n",
      "697 4\n",
      "699 6\n",
      "700 4\n",
      "709 4\n",
      "718 4\n",
      "726 4\n",
      "728 4\n",
      "736 4\n",
      "743 6\n",
      "744 4\n",
      "753 4\n",
      "758 4\n",
      "762 4\n",
      "788 6\n",
      "789 4\n",
      "792 4\n",
      "802 4\n",
      "849 4\n",
      "851 4\n",
      "873 6\n",
      "874 4\n",
      "885 4\n",
      "894 4\n",
      "901 6\n",
      "902 4\n",
      "923 4\n",
      "931 4\n",
      "931 6\n",
      "932 4\n",
      "933 4\n"
     ]
    }
   ],
   "source": [
    "find_palindromes(string)"
   ]
  }
 ],
 "metadata": {
  "kernelspec": {
   "display_name": "Python [default]",
   "language": "python",
   "name": "python3"
  },
  "language_info": {
   "codemirror_mode": {
    "name": "ipython",
    "version": 3
   },
   "file_extension": ".py",
   "mimetype": "text/x-python",
   "name": "python",
   "nbconvert_exporter": "python",
   "pygments_lexer": "ipython3",
   "version": "3.5.2"
  }
 },
 "nbformat": 4,
 "nbformat_minor": 1
}
