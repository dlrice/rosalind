{
 "cells": [
  {
   "cell_type": "markdown",
   "metadata": {},
   "source": [
    "# Finding a Motif in DNA\n",
    "\n",
    "http://rosalind.info/problems/subs/"
   ]
  },
  {
   "cell_type": "markdown",
   "metadata": {},
   "source": [
    "### A solution"
   ]
  },
  {
   "cell_type": "code",
   "execution_count": 46,
   "metadata": {
    "collapsed": false
   },
   "outputs": [],
   "source": [
    "def find_motif(s, t):\n",
    "    start = 0\n",
    "    indices = []\n",
    "    while(start < len(s)):\n",
    "        index = s.find(t, start)\n",
    "        if index < 0:\n",
    "            return indices\n",
    "        start = index + 1\n",
    "        indices.append(index + 1)\n",
    "    return indices"
   ]
  },
  {
   "cell_type": "code",
   "execution_count": 42,
   "metadata": {
    "collapsed": true
   },
   "outputs": [],
   "source": [
    "s = 'CGAGTGACCTAAATCGAGTGACGAGTGACCCAAGAGTGACGAGTGACCACGAGTGACCCGAGTGACCAATCGAGTGACGTGAGTGACGAGTGACGGAGTGACGGAGTGACAGAGTGACTGCGAGTGACGCAGGAGTGACGAGTGACGAGTGACGGAGTGACATTCTGAGTGACGAGTGACAATGTGAGTGACCGTGAGTGACTGAGGAGTGACAGAGTGACAGAGTGACAGAGCGAGTGACACAAATGATAAAATTCACTAGAGTGACCTGACCCTATAGTGAGAGTGACGAGTGACAATGAGTGACGAGTGACGAGTGACCCCCGCAAAGAGTGACGAGTGACCCGGAGTGACAGGAGTGACGGAGTGACCACGAGTGACGAGTGACTGAGTGACGCGGAGTGACTGAGTGACGAGTGACGCGGTAGACAGCGATAGGGAGTGACATGAGTGACGAGTGACATTGAGTGACGAGTGACGAGTGACTTAGGGAGTGACCTCTGAGTGACCTCCAGAGTGACGAGTGACAAGAGTGACCGAGTGACGAGTGACAGAGAGTGACGAGTGACCTGAGTGACGGAGTGACAAATGAGTGACGAAAACGAGTGACCCGAGTGACGAGTGACTTCTTGTTTGTGGAGTGACTGCGGAGTGACGTAGGAGTGACTTAATACTTAGAGAGTGACTAAATATGAGTGACGAGAGTGACGAGTGACTGAGTGACGGGAGTGACGAGTGACATTCGAGTGACGAGTGACCTGCTGAGTGACGAGTGACTTGGAGTGACTGAGTGACGGAGTGACGAGTGACCGAGTGACCTCACATAGCGAGTGACTCAGAGTGACGAGTGACGGGAGTGACCCAGGCTAGGCCTAGGAGTGACGAGTGAC'\n",
    "t = 'GAGTGACGA'"
   ]
  },
  {
   "cell_type": "code",
   "execution_count": 51,
   "metadata": {
    "collapsed": false
   },
   "outputs": [
    {
     "name": "stdout",
     "output_type": "stream",
     "text": [
      "16 34 81 133 140 167 284 301 308 331 375 408 449 466 473 515 539 556 591 613 694 703 727 745 764 797 839 877\n"
     ]
    }
   ],
   "source": [
    "indices = find_motif(s, t)\n",
    "print(' '.join([str(x) for x in indices]))"
   ]
  },
  {
   "cell_type": "markdown",
   "metadata": {},
   "source": [
    "### Another solution"
   ]
  },
  {
   "cell_type": "code",
   "execution_count": 54,
   "metadata": {
    "collapsed": true
   },
   "outputs": [],
   "source": [
    "def find_motif2(s, t):\n",
    "    pos_lst =[]\n",
    "    for i in range(0, len(s)):\n",
    "        m = s[i:i + len(t)]\n",
    "        if m == t:\n",
    "            pos_lst.append(str(i+1))\n",
    "    return \" \".join(pos_lst)"
   ]
  },
  {
   "cell_type": "code",
   "execution_count": 56,
   "metadata": {
    "collapsed": false
   },
   "outputs": [
    {
     "name": "stdout",
     "output_type": "stream",
     "text": [
      "16 34 81 133 140 167 284 301 308 331 375 408 449 466 473 515 539 556 591 613 694 703 727 745 764 797 839 877\n"
     ]
    }
   ],
   "source": [
    "print(find_motif2(s, t))"
   ]
  }
 ],
 "metadata": {
  "anaconda-cloud": {},
  "kernelspec": {
   "display_name": "Python [default]",
   "language": "python",
   "name": "python3"
  },
  "language_info": {
   "codemirror_mode": {
    "name": "ipython",
    "version": 3
   },
   "file_extension": ".py",
   "mimetype": "text/x-python",
   "name": "python",
   "nbconvert_exporter": "python",
   "pygments_lexer": "ipython3",
   "version": "3.5.2"
  }
 },
 "nbformat": 4,
 "nbformat_minor": 1
}
